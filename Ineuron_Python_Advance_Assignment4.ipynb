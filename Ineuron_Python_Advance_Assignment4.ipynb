{
  "nbformat": 4,
  "nbformat_minor": 0,
  "metadata": {
    "colab": {
      "name": "Ineuron_Python_Advance_Assignment4.ipynb",
      "provenance": []
    },
    "kernelspec": {
      "name": "python3",
      "display_name": "Python 3"
    },
    "language_info": {
      "name": "python"
    }
  },
  "cells": [
    {
      "cell_type": "markdown",
      "source": [
        "**Ineuron Python Advance Assignment 4**"
      ],
      "metadata": {
        "id": "C-_F1AcbXNe8"
      }
    },
    {
      "cell_type": "markdown",
      "source": [
        "Q1. Explain the differences between Cassandra and typical databases.\n",
        "\n",
        "Answer: Cassandra is a high performance and highly scalable distributed NoSQL database management system. Cassandra deals with unstructured data and it handles high volume of incoming data velocity.\n",
        "\n",
        "Cassandra is used to deal with unstructured data. RDBMS is used to deal with structured data. Cassandra has flexible schema. RDBMS has fixed schema.\n",
        "\n",
        "One of the most significant differences between MongoDB and Cassandra is their strategy concerning data availability. This feature dependents on the number of master slaves in a cluster. MongoDB has a single master directing multiple slave nodes. Cassandra, on the other hand, uses a different model.\n",
        "\n",
        "The primary database model for MS SQL Server is Relational DBMS. The primary database model for Cassandra is Wide Column Store.\n",
        "\n",
        "Oracle uses Horizontal partitioning method for storing different data on different nodes. Whereas, Cassandra uses Sharding partitioning method for storing different data on different nodes"
      ],
      "metadata": {
        "id": "ON7l3uPGXNcu"
      }
    },
    {
      "cell_type": "markdown",
      "source": [
        "Q2. What exactly is CQLSH?\n",
        "\n",
        "Answer: CQLSH is a command-line interface for interacting with Cassandra using CQL (the Cassandra Query Language). It is shipped with every Cassandra package, and can be found in the bin/ directory alongside the cassandra executable."
      ],
      "metadata": {
        "id": "7N0a_YVvXNaG"
      }
    },
    {
      "cell_type": "markdown",
      "source": [
        "\n",
        "Q3. Explain the Cassandra cluster idea.\n",
        "\n",
        "Answer: Cassandra works with peer to peer architecture, with each node connected to all other nodes. Each Cassandra node performs all database operations and can serve client requests without the need for a master node. A Cassandra cluster does not have a single point of failure as a result of the peer-to-peer distributed architecture. Example: Netflix uses cassandra.\n",
        "\n",
        "Nodes in a cluster communicate with each other for various purposes.\n",
        "\n",
        "There are various components used in this process:\n",
        "\n",
        "Seeds: Each node configures a list of seeds which is simply a list of other nodes. A seed node is used to bootstrap a node when it is first joining a cluster. A seed does not have any other specific purpose, and it is not a single point of failure. A node does not require a seed on subsequent restarts after bootstrap. It is recommended to use two to three seed nodes per Cassandra data center, and keep the seeds list uniform across all the nodes. \n",
        "\n",
        "Gossip: Gossip is the protocol used by Cassandra nodes for peer-to-peer communication. The gossip informs a node about the state of all other nodes. A node performs gossip with up to three other nodes every second. The gossip messages follow specific format and version numbers to make efficient communication."
      ],
      "metadata": {
        "id": "z4tDkv8ZXNXE"
      }
    },
    {
      "cell_type": "markdown",
      "source": [
        "\n",
        "Q4. Give an example to demonstrate the class notion.\n",
        "\n",
        "Answer: A class is a user-defined blueprint or prototype from which objects are created. Classes provide a means of bundling data and functionality together. Creating a new class creates a new type of object, allowing new instances of that type to be made. Each class instance can have attributes attached to it for maintaining its state. Class instances can also have methods (defined by their class) for modifying their state."
      ],
      "metadata": {
        "id": "ls00deS1XNUR"
      }
    },
    {
      "cell_type": "code",
      "source": [
        "class Ineuron:\n",
        "\t\n",
        "\tattr1 = \"Ineuron\"\n",
        "\tattr2 = \"FSDS batch learning python \"\n",
        "\n",
        "\tdef printingit(self):\n",
        "\t\tprint(\"I'm a\", self.attr1)\n",
        "\t\tprint(\"I'm a\", self.attr2)\n",
        "\n",
        "# Driver code Object instantiation\n",
        "obj = Ineuron()\n",
        "\n",
        "# Accessing class attributes and method through objects\n",
        "print(obj.attr1)\n",
        "obj.printingit()\n"
      ],
      "metadata": {
        "colab": {
          "base_uri": "https://localhost:8080/"
        },
        "id": "-jldCCOqbn7u",
        "outputId": "97e23afb-05be-4035-e49c-ffd74e5544f6"
      },
      "execution_count": 1,
      "outputs": [
        {
          "output_type": "stream",
          "name": "stdout",
          "text": [
            "Ineuron\n",
            "I'm a Ineuron\n",
            "I'm a FSDS batch learning python \n"
          ]
        }
      ]
    },
    {
      "cell_type": "markdown",
      "source": [
        "Q5. Use an example to explain the object.\n",
        "\n",
        "Answer: An Object is an instance of a Class. A class is like a blueprint while an instance is a copy of the class with actual values. It’s not an idea anymore, it’s an actual dog, like a dog of breed pug who’s seven years old. You can have many dogs to create many different instances, but without the class as a guide, you would be lost, not knowing what information is required.\n",
        "An object consists of : \n",
        "\n",
        "- State: It is represented by the attributes of an object. It also reflects the properties of an object.\n",
        "\n",
        "- Behavior: It is represented by the methods of an object. It also reflects the response of an object to other objects.\n",
        "\n",
        "- Identity: It gives a unique name to an object and enables one object to interact with other objects."
      ],
      "metadata": {
        "id": "pim5tkMAXaMS"
      }
    },
    {
      "cell_type": "code",
      "source": [
        "class Ineuron:\n",
        "    company_website = 'https://ineuron.ai/'\n",
        "    name = 'iNeuron'\n",
        " \n",
        "    def contact_details(self):\n",
        "        print('Contact us at ', self.company_website)\n",
        " \n",
        " \n",
        "class Datascience(Ineuron):\n",
        "    def __init__(self):\n",
        "        self.year_of_establishment= 2018\n",
        " \n",
        "    def est_details(self):\n",
        "        print('{0} Company was established in {1}'\n",
        "              .format(self.name,self.year_of_establishment))\n",
        "  \n",
        "ds = Datascience() #object fo class datascience \n",
        "ds.est_details() #excessing function of class data sciece "
      ],
      "metadata": {
        "colab": {
          "base_uri": "https://localhost:8080/"
        },
        "id": "Lyi2-Jxyca6h",
        "outputId": "adfa36eb-56dd-4046-c472-83c7d41086a4"
      },
      "execution_count": 2,
      "outputs": [
        {
          "output_type": "stream",
          "name": "stdout",
          "text": [
            "iNeuron Company was established in 2018\n"
          ]
        }
      ]
    }
  ]
}