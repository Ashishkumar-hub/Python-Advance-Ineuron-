{
  "nbformat": 4,
  "nbformat_minor": 0,
  "metadata": {
    "colab": {
      "name": "Ineuron_Python_Advance_Assignment5.ipynb",
      "provenance": []
    },
    "kernelspec": {
      "name": "python3",
      "display_name": "Python 3"
    },
    "language_info": {
      "name": "python"
    }
  },
  "cells": [
    {
      "cell_type": "markdown",
      "source": [
        "**Ineuron Python Advance Assignment 5**"
      ],
      "metadata": {
        "id": "C7vf_IV6dRY5"
      }
    },
    {
      "cell_type": "markdown",
      "source": [
        "Q1. Explain super() in the context of inheritance.\n",
        "\n",
        "Answer: With the super() function, you can gain access to inherited methods that have been overwritten in a class object. When we use the super() function, we are calling a parent method into a child method to make use of it. For example, we may want to override one aspect of the parent method with certain functionality, but then call the rest of the original parent method to finish the method.\n",
        "A simple program to show use of super is shown below:\n"
      ],
      "metadata": {
        "id": "pMZC4Qy3dRtg"
      }
    },
    {
      "cell_type": "code",
      "source": [
        "class Parent:\n",
        "  def __init__(self, txt):\n",
        "    self.message = txt\n",
        "\n",
        "  def printmessage(self):\n",
        "    print(self.message)\n",
        "\n",
        "class Child(Parent):\n",
        "  def __init__(self, txt):\n",
        "    super().__init__(txt) #using super function to gain access to inherited methods of parent\n",
        "\n",
        "x = Child(\"Hello, My name is ashish!\")\n",
        "x.printmessage()"
      ],
      "metadata": {
        "colab": {
          "base_uri": "https://localhost:8080/"
        },
        "id": "PYhUclO6dotv",
        "outputId": "e3147bb1-b42a-4092-c581-369a82150770"
      },
      "execution_count": 2,
      "outputs": [
        {
          "output_type": "stream",
          "name": "stdout",
          "text": [
            "Hello, My name is ashish!\n"
          ]
        }
      ]
    },
    {
      "cell_type": "markdown",
      "source": [
        "Q2. Describe the file-handling system.\n",
        "\n",
        "Answer: Python too supports file handling and allows users to handle files i.e., to read and write files, along with many other file handling options, to operate on files. Python treats file differently as text or binary and this is important. Each line of code includes a sequence of characters and they form text file. Each line of a file is terminated with a special character, called the EOL or End of Line characters like comma {,} or newline character. It ends the current line and tells the interpreter a new one has begun. \n",
        "\n",
        "There are three modess in which we generally handle a file read, write and append. "
      ],
      "metadata": {
        "id": "pjkxIXfgdRvW"
      }
    },
    {
      "cell_type": "code",
      "source": [
        "file = open('ashish.txt','w')\n",
        "file.write(\"My name is ashish\")\n",
        "file.close()\n",
        "file = open('ashish.txt','r')\n",
        "print(file.read())\n",
        "file.close()\n",
        "file = open('ashish.txt','a')\n",
        "file.write(\"\\nI am a student on one neuron platform\")\n",
        "file.close()\n",
        "file = open('ashish.txt','r')\n",
        "print(file.read())"
      ],
      "metadata": {
        "colab": {
          "base_uri": "https://localhost:8080/"
        },
        "id": "ocBu1G8Lft14",
        "outputId": "d4aab356-f9bc-4dda-dbb1-dc8551ce61f3"
      },
      "execution_count": 6,
      "outputs": [
        {
          "output_type": "stream",
          "name": "stdout",
          "text": [
            "My name is ashish\n",
            "My name is ashish\n",
            "I am a student on one neuron platform\n"
          ]
        }
      ]
    },
    {
      "cell_type": "markdown",
      "source": [
        "\n",
        "Q3. In Python, explain multiple inheritance.\n",
        "\n",
        "Answer: A simple example of multiple inheritence is shown below using python. "
      ],
      "metadata": {
        "id": "A8ivMgUydRxT"
      }
    },
    {
      "cell_type": "code",
      "source": [
        "class Ineuron:\n",
        "    company_website = 'https://ineuron.ai/'\n",
        "    name = 'iNeuron' \n",
        "    def contact_details(self):\n",
        "        print('Contact us at ', self.company_website)\n",
        "\n",
        "class OS:\n",
        "    blab = True\n",
        "    os_name = 'Windows 10'\n",
        "    name = \"AshishDell\"\n",
        " \n",
        "class windows(OS, Ineuron): # window class inheriting features of both the above classes OS and Ineuron typical case of multiple inheriitence\n",
        "    def __init__(self):\n",
        "        if self.blab is True:\n",
        "            print('multiple inheritence using python ')\n",
        "        print('Name: {}'.format(self.name))\n",
        " \n",
        "windows = windows() #creating object of windows class"
      ],
      "metadata": {
        "colab": {
          "base_uri": "https://localhost:8080/"
        },
        "id": "fkvWFef5gs6X",
        "outputId": "5358db25-70e0-41a3-d31f-e876f3022a2b"
      },
      "execution_count": 8,
      "outputs": [
        {
          "output_type": "stream",
          "name": "stdout",
          "text": [
            "multiple inheritence using python \n",
            "Name: AshishDell\n"
          ]
        }
      ]
    },
    {
      "cell_type": "markdown",
      "source": [
        "Q4. Write the MySQL query syntax for INSERT, UPDATE, and DROP.\n",
        "\n",
        "Answer: \n",
        "1, creating database: \n",
        "create database Customerdatabase;\n",
        "\n",
        "2. Creating table:\n",
        "CREATE TABLE customers    \n",
        "(id int(10),    \n",
        " name varchar(50),    \n",
        " city varchar(50),  \n",
        " PRIMARY KEY (id )    \n",
        ");    \n",
        "\n",
        "4. Altering table:\n",
        "ALTER TABLE customers   \n",
        "ADD age varchar(50);    \n",
        "\n",
        "5. **Inserting into table:**\n",
        "insert into customers values(1,'Ashish','Delhi');  \n",
        "\n",
        "6. **Updating table:**\n",
        "update customers set name='Ashish Kumar', city='New Delhi' where id=1;  \n",
        "\n",
        "7. **Drop table:**\n",
        "drop table customers;  \n"
      ],
      "metadata": {
        "id": "37bXGuAkdR0J"
      }
    },
    {
      "cell_type": "markdown",
      "source": [
        "Q5. Describe MongoDB's features.\n",
        "\n",
        "Answer: MongoDB is an open-source document-oriented database that is designed to store a large scale of data and also allows you to work with that data very efficiently. It is categorized under the NoSQL (Not only SQL) database because the storage and retrieval of data in the MongoDB are not in the form of tables. \n",
        "\n",
        "**Features:**\n",
        "- Schema-less Database: It is the great feature provided by the MongoDB. A Schema-less database means one collection can hold different types of documents in it. Or in other words, in the MongoDB database, a single collection can hold multiple documents and these documents may consist of the different numbers of fields, content, and size. It is not necessary that the one document is similar to another document like in the relational databases. Due to this cool feature, MongoDB provides great flexibility to databases.\n",
        "- Document Oriented: In MongoDB, all the data stored in the documents instead of tables like in RDBMS. In these documents, the data is stored in fields(key-value pair) instead of rows and columns which make the data much more flexible in comparison to RDBMS. And each document contains its unique object id.\n",
        "- Indexing: In MongoDB database, every field in the documents is indexed with primary and secondary indices this makes easier and takes less time to get or search data from the pool of the data. If the data is not indexed, then database search each document with the specified query which takes lots of time and not so efficient.\n",
        "- Scalability: MongoDB provides horizontal scalability with the help of sharding. Sharding means to distribute data on multiple servers, here a large amount of data is partitioned into data chunks using the shard key, and these data chunks are evenly distributed across shards that reside across many physical servers. It will also add new machines to a running database.\n",
        "- Replication: MongoDB provides high availability and redundancy with the help of replication, it creates multiple copies of the data and sends these copies to a different server so that if one server fails, then the data is retrieved from another server."
      ],
      "metadata": {
        "id": "TdGvEXjtdR4j"
      }
    }
  ]
}