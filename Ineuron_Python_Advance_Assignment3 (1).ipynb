{
  "nbformat": 4,
  "nbformat_minor": 0,
  "metadata": {
    "colab": {
      "name": "Ineuron_Python_Advance_Assignment3.ipynb",
      "provenance": []
    },
    "kernelspec": {
      "name": "python3",
      "display_name": "Python 3"
    },
    "language_info": {
      "name": "python"
    }
  },
  "cells": [
    {
      "cell_type": "markdown",
      "source": [
        "**Ineuron Python Advance Assignment 3**"
      ],
      "metadata": {
        "id": "eURo_ae3Hs1w"
      }
    },
    {
      "cell_type": "markdown",
      "source": [
        "Q1. What is the process for loading a dataset from an external source?\n",
        "\n",
        "Answer: We can load any type of data like a csv file or excel file or sas file f=or a text file or any kind of lfile mentoined in pandas documentary with the help of pandas a simple example to usea csv file from google cold is shown below first we need to mount the drive for it then just provide the path for reading the csv file.\n"
      ],
      "metadata": {
        "id": "u47KCCxhHsxp"
      }
    },
    {
      "cell_type": "code",
      "source": [
        "import pandas as pd\n",
        "df = pd.read_csv(\"/content/drive/MyDrive/data for colab/COVID19_line_list_data.csv\")\n",
        "df.shape\n",
        "df.head"
      ],
      "metadata": {
        "colab": {
          "base_uri": "https://localhost:8080/"
        },
        "id": "y9i3fVJFIYPd",
        "outputId": "91d9ac84-4704-4228-b261-f6ae46c5ba57"
      },
      "execution_count": 7,
      "outputs": [
        {
          "output_type": "execute_result",
          "data": {
            "text/plain": [
              "<bound method NDFrame.head of         id  case_in_country  ... Unnamed: 25  Unnamed: 26\n",
              "0        1              NaN  ...         NaN          NaN\n",
              "1        2              NaN  ...         NaN          NaN\n",
              "2        3              NaN  ...         NaN          NaN\n",
              "3        4              NaN  ...         NaN          NaN\n",
              "4        5              NaN  ...         NaN          NaN\n",
              "...    ...              ...  ...         ...          ...\n",
              "1080  1081              2.0  ...         NaN          NaN\n",
              "1081  1082              1.0  ...         NaN          NaN\n",
              "1082  1083              1.0  ...         NaN          NaN\n",
              "1083  1084              1.0  ...         NaN          NaN\n",
              "1084  1085              1.0  ...         NaN          NaN\n",
              "\n",
              "[1085 rows x 27 columns]>"
            ]
          },
          "metadata": {},
          "execution_count": 7
        }
      ]
    },
    {
      "cell_type": "markdown",
      "source": [
        "Q2. How can we use pandas to read JSON files?\n",
        "\n",
        "Answer: "
      ],
      "metadata": {
        "id": "tp_dSOyuHstK"
      }
    },
    {
      "cell_type": "code",
      "source": [
        "import pandas as pd\n",
        "iris_data = pd.read_json(\"https://raw.githubusercontent.com/domoritz/maps/master/data/iris.json\")\n",
        "iris_data.head()\n"
      ],
      "metadata": {
        "colab": {
          "base_uri": "https://localhost:8080/",
          "height": 206
        },
        "id": "lwA1LX_gKZjH",
        "outputId": "681d9c3e-bf35-4498-9ee8-d882cddb6b96"
      },
      "execution_count": 8,
      "outputs": [
        {
          "output_type": "execute_result",
          "data": {
            "text/html": [
              "\n",
              "  <div id=\"df-7044fdd0-a162-4486-9efb-e1de0bf2e79e\">\n",
              "    <div class=\"colab-df-container\">\n",
              "      <div>\n",
              "<style scoped>\n",
              "    .dataframe tbody tr th:only-of-type {\n",
              "        vertical-align: middle;\n",
              "    }\n",
              "\n",
              "    .dataframe tbody tr th {\n",
              "        vertical-align: top;\n",
              "    }\n",
              "\n",
              "    .dataframe thead th {\n",
              "        text-align: right;\n",
              "    }\n",
              "</style>\n",
              "<table border=\"1\" class=\"dataframe\">\n",
              "  <thead>\n",
              "    <tr style=\"text-align: right;\">\n",
              "      <th></th>\n",
              "      <th>sepalLength</th>\n",
              "      <th>sepalWidth</th>\n",
              "      <th>petalLength</th>\n",
              "      <th>petalWidth</th>\n",
              "      <th>species</th>\n",
              "    </tr>\n",
              "  </thead>\n",
              "  <tbody>\n",
              "    <tr>\n",
              "      <th>0</th>\n",
              "      <td>5.1</td>\n",
              "      <td>3.5</td>\n",
              "      <td>1.4</td>\n",
              "      <td>0.2</td>\n",
              "      <td>setosa</td>\n",
              "    </tr>\n",
              "    <tr>\n",
              "      <th>1</th>\n",
              "      <td>4.9</td>\n",
              "      <td>3.0</td>\n",
              "      <td>1.4</td>\n",
              "      <td>0.2</td>\n",
              "      <td>setosa</td>\n",
              "    </tr>\n",
              "    <tr>\n",
              "      <th>2</th>\n",
              "      <td>4.7</td>\n",
              "      <td>3.2</td>\n",
              "      <td>1.3</td>\n",
              "      <td>0.2</td>\n",
              "      <td>setosa</td>\n",
              "    </tr>\n",
              "    <tr>\n",
              "      <th>3</th>\n",
              "      <td>4.6</td>\n",
              "      <td>3.1</td>\n",
              "      <td>1.5</td>\n",
              "      <td>0.2</td>\n",
              "      <td>setosa</td>\n",
              "    </tr>\n",
              "    <tr>\n",
              "      <th>4</th>\n",
              "      <td>5.0</td>\n",
              "      <td>3.6</td>\n",
              "      <td>1.4</td>\n",
              "      <td>0.2</td>\n",
              "      <td>setosa</td>\n",
              "    </tr>\n",
              "  </tbody>\n",
              "</table>\n",
              "</div>\n",
              "      <button class=\"colab-df-convert\" onclick=\"convertToInteractive('df-7044fdd0-a162-4486-9efb-e1de0bf2e79e')\"\n",
              "              title=\"Convert this dataframe to an interactive table.\"\n",
              "              style=\"display:none;\">\n",
              "        \n",
              "  <svg xmlns=\"http://www.w3.org/2000/svg\" height=\"24px\"viewBox=\"0 0 24 24\"\n",
              "       width=\"24px\">\n",
              "    <path d=\"M0 0h24v24H0V0z\" fill=\"none\"/>\n",
              "    <path d=\"M18.56 5.44l.94 2.06.94-2.06 2.06-.94-2.06-.94-.94-2.06-.94 2.06-2.06.94zm-11 1L8.5 8.5l.94-2.06 2.06-.94-2.06-.94L8.5 2.5l-.94 2.06-2.06.94zm10 10l.94 2.06.94-2.06 2.06-.94-2.06-.94-.94-2.06-.94 2.06-2.06.94z\"/><path d=\"M17.41 7.96l-1.37-1.37c-.4-.4-.92-.59-1.43-.59-.52 0-1.04.2-1.43.59L10.3 9.45l-7.72 7.72c-.78.78-.78 2.05 0 2.83L4 21.41c.39.39.9.59 1.41.59.51 0 1.02-.2 1.41-.59l7.78-7.78 2.81-2.81c.8-.78.8-2.07 0-2.86zM5.41 20L4 18.59l7.72-7.72 1.47 1.35L5.41 20z\"/>\n",
              "  </svg>\n",
              "      </button>\n",
              "      \n",
              "  <style>\n",
              "    .colab-df-container {\n",
              "      display:flex;\n",
              "      flex-wrap:wrap;\n",
              "      gap: 12px;\n",
              "    }\n",
              "\n",
              "    .colab-df-convert {\n",
              "      background-color: #E8F0FE;\n",
              "      border: none;\n",
              "      border-radius: 50%;\n",
              "      cursor: pointer;\n",
              "      display: none;\n",
              "      fill: #1967D2;\n",
              "      height: 32px;\n",
              "      padding: 0 0 0 0;\n",
              "      width: 32px;\n",
              "    }\n",
              "\n",
              "    .colab-df-convert:hover {\n",
              "      background-color: #E2EBFA;\n",
              "      box-shadow: 0px 1px 2px rgba(60, 64, 67, 0.3), 0px 1px 3px 1px rgba(60, 64, 67, 0.15);\n",
              "      fill: #174EA6;\n",
              "    }\n",
              "\n",
              "    [theme=dark] .colab-df-convert {\n",
              "      background-color: #3B4455;\n",
              "      fill: #D2E3FC;\n",
              "    }\n",
              "\n",
              "    [theme=dark] .colab-df-convert:hover {\n",
              "      background-color: #434B5C;\n",
              "      box-shadow: 0px 1px 3px 1px rgba(0, 0, 0, 0.15);\n",
              "      filter: drop-shadow(0px 1px 2px rgba(0, 0, 0, 0.3));\n",
              "      fill: #FFFFFF;\n",
              "    }\n",
              "  </style>\n",
              "\n",
              "      <script>\n",
              "        const buttonEl =\n",
              "          document.querySelector('#df-7044fdd0-a162-4486-9efb-e1de0bf2e79e button.colab-df-convert');\n",
              "        buttonEl.style.display =\n",
              "          google.colab.kernel.accessAllowed ? 'block' : 'none';\n",
              "\n",
              "        async function convertToInteractive(key) {\n",
              "          const element = document.querySelector('#df-7044fdd0-a162-4486-9efb-e1de0bf2e79e');\n",
              "          const dataTable =\n",
              "            await google.colab.kernel.invokeFunction('convertToInteractive',\n",
              "                                                     [key], {});\n",
              "          if (!dataTable) return;\n",
              "\n",
              "          const docLinkHtml = 'Like what you see? Visit the ' +\n",
              "            '<a target=\"_blank\" href=https://colab.research.google.com/notebooks/data_table.ipynb>data table notebook</a>'\n",
              "            + ' to learn more about interactive tables.';\n",
              "          element.innerHTML = '';\n",
              "          dataTable['output_type'] = 'display_data';\n",
              "          await google.colab.output.renderOutput(dataTable, element);\n",
              "          const docLink = document.createElement('div');\n",
              "          docLink.innerHTML = docLinkHtml;\n",
              "          element.appendChild(docLink);\n",
              "        }\n",
              "      </script>\n",
              "    </div>\n",
              "  </div>\n",
              "  "
            ],
            "text/plain": [
              "   sepalLength  sepalWidth  petalLength  petalWidth species\n",
              "0          5.1         3.5          1.4         0.2  setosa\n",
              "1          4.9         3.0          1.4         0.2  setosa\n",
              "2          4.7         3.2          1.3         0.2  setosa\n",
              "3          4.6         3.1          1.5         0.2  setosa\n",
              "4          5.0         3.6          1.4         0.2  setosa"
            ]
          },
          "metadata": {},
          "execution_count": 8
        }
      ]
    },
    {
      "cell_type": "markdown",
      "source": [
        "\n",
        "Q3. Describe the significance of DASK.\n",
        "\n",
        "Answer: Dask is a flexible library for parallel computing in Python.\n",
        "Dask is composed of two parts:\n",
        "\n",
        "- Dynamic task scheduling optimized for computation. This is similar to Airflow, Luigi, Celery, or Make, but optimized for interactive computational workloads.\n",
        "\n",
        "- “Big Data” collections like parallel arrays, dataframes, and lists that extend common interfaces like NumPy, Pandas, or Python iterators to larger-than-memory or distributed environments. These parallel collections run on top of dynamic task schedulers.\n",
        "\n",
        "\n",
        "Dask emphasizes the following virtues:\n",
        "\n",
        "- Familiar: Provides parallelized NumPy array and Pandas DataFrame objects\n",
        "\n",
        "- Flexible: Provides a task scheduling interface for more custom workloads and integration with other projects.\n",
        "\n",
        "- Native: Enables distributed computing in pure Python with access to the PyData stack.\n",
        "\n",
        "- Fast: Operates with low overhead, low latency, and minimal serialization necessary for fast numerical algorithms\n",
        "\n",
        "- Scales up: Runs resiliently on clusters with 1000s of cores\n",
        "\n",
        "- Scales down: Trivial to set up and run on a laptop in a single process\n",
        "\n",
        "- Responsive: Designed with interactive computing in mind, it provides rapid feedback and diagnostics to aid humans"
      ],
      "metadata": {
        "id": "heDmO8IsHsq6"
      }
    },
    {
      "cell_type": "markdown",
      "source": [
        "\n",
        "Q4. Describe the functions of DASK.\n",
        "\n",
        "Answer: Dask DataFrames coordinate many Pandas DataFrames/Series arranged along the index. A Dask DataFrame is partitioned row-wise, grouping rows by index value for efficiency. These Pandas objects may live on disk or on other machines.\n",
        "\n",
        "Ask DataFrame is used in situations where Pandas is commonly needed, usually when Pandas fails due to data size or computation speed:\n",
        "\n",
        "- Manipulating large datasets, even when those datasets don’t fit in memory\n",
        "\n",
        "- Accelerating long computations by using many cores\n",
        "\n",
        "- Distributed computing on large datasets with standard Pandas operations like groupby, join, and time series computations"
      ],
      "metadata": {
        "id": "QDhPdRsHHsov"
      }
    },
    {
      "cell_type": "markdown",
      "source": [
        "\n",
        "Q5. Describe Cassandra's features.\n",
        "\n",
        "Answer: Apache Cassandra is an open source, user-available, distributed, NoSQL DBMS which is designed to handle large amounts of data across many servers. It provides zero point of failure. Cassandra offers massive support for clusters spanning multiple datacentres. \n",
        "\n",
        "There are some massive features of Cassandra. Here are some of the features described below: \n",
        "\n",
        "- Distributed: Each node in the cluster has has same role. There’s no question of failure & the data set is distributed across the cluster but one issue is there that is the master isn’t present in each node to support request for service.\n",
        "\n",
        "- Supports replication & Multi data center replication: Replication factor comes with best configurations in cassandra. Cassandra is designed to have a distributed system, for the deployment of large number of nodes for across multiple data centers and other key features too.\n",
        "\n",
        "- Scalability: It is designed to r/w throughput, Increase gradually as new machines are added without interrupting other applications.\n",
        "\n",
        "- Fault-tolerance: \n",
        "Data is automatically stored & replicated for fault-tolerance. If a node Fails, then it is replaced within no time.\n",
        "\n",
        "- MapReduce Support: \n",
        "It supports Hadoop integration with MapReduce support.Apache Hive & Apache Pig is also supported.\n",
        "\n",
        "- Query Language: \n",
        "Cassandra has introduced the CQL (Cassandra Query Language). Its a simple interface for accessing the Cassandra."
      ],
      "metadata": {
        "id": "VVpCbECdHsm3"
      }
    }
  ]
}